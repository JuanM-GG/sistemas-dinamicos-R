{
  "nbformat": 4,
  "nbformat_minor": 0,
  "metadata": {
    "colab": {
      "name": "Untitled23.ipynb",
      "provenance": [],
      "authorship_tag": "ABX9TyOyStVCR7wBwL73ofUXfJHV",
      "include_colab_link": true
    },
    "kernelspec": {
      "name": "ir",
      "display_name": "R"
    }
  },
  "cells": [
    {
      "cell_type": "markdown",
      "metadata": {
        "id": "view-in-github",
        "colab_type": "text"
      },
      "source": [
        "<a href=\"https://colab.research.google.com/github/JuanM-GG/sistemas-dinamicos-R/blob/main/altura_tanque.ipynb\" target=\"_parent\"><img src=\"https://colab.research.google.com/assets/colab-badge.svg\" alt=\"Open In Colab\"/></a>"
      ]
    },
    {
      "cell_type": "markdown",
      "metadata": {
        "id": "0_xCtugn0CfO"
      },
      "source": [
        "Título: Altura en tanque\r\n",
        "\r\n",
        "Nombre: Juan Manuel G.G\r\n",
        "\r\n",
        "Fecha: 19 de diciembre del 2020"
      ]
    },
    {
      "cell_type": "markdown",
      "metadata": {
        "id": "qfEN7jlJ0PZ2"
      },
      "source": [
        "Cargar librerías"
      ]
    },
    {
      "cell_type": "code",
      "metadata": {
        "colab": {
          "base_uri": "https://localhost:8080/"
        },
        "id": "cWvk5e0R0MJh",
        "outputId": "10f06f0f-0aa1-452a-8711-f770bcb49dea"
      },
      "source": [
        "install.packages(\"deSolve\")\r\n",
        "install.packages(\"ggplot2\")"
      ],
      "execution_count": 2,
      "outputs": [
        {
          "output_type": "stream",
          "text": [
            "Installing package into ‘/usr/local/lib/R/site-library’\n",
            "(as ‘lib’ is unspecified)\n",
            "\n",
            "Installing package into ‘/usr/local/lib/R/site-library’\n",
            "(as ‘lib’ is unspecified)\n",
            "\n"
          ],
          "name": "stderr"
        }
      ]
    },
    {
      "cell_type": "code",
      "metadata": {
        "id": "pxclDrZw0bIm"
      },
      "source": [
        "library(deSolve)\r\n",
        "library(ggplot2)"
      ],
      "execution_count": 3,
      "outputs": []
    },
    {
      "cell_type": "markdown",
      "metadata": {
        "id": "GgxXTNXg0hnS"
      },
      "source": [
        "Establecer modelo"
      ]
    },
    {
      "cell_type": "code",
      "metadata": {
        "id": "97qYnm_f0gcy"
      },
      "source": [
        "tank = function(time,state,parms){\r\n",
        "  with(as.list(c(state,parms)),{\r\n",
        "\r\n",
        "    dhdt = (c/(pho*A))*u\r\n",
        "  \r\n",
        "  return(list(c(dhdt)))\r\n",
        "  })\r\n",
        "}"
      ],
      "execution_count": 5,
      "outputs": []
    },
    {
      "cell_type": "markdown",
      "metadata": {
        "id": "gGkUoQoN057g"
      },
      "source": [
        "Establecer parámetros "
      ]
    },
    {
      "cell_type": "code",
      "metadata": {
        "id": "a4KAdwWW04qn"
      },
      "source": [
        "p = c(c = 50, A = 1, pho = 100, u = 0)"
      ],
      "execution_count": 14,
      "outputs": []
    },
    {
      "cell_type": "markdown",
      "metadata": {
        "id": "KCIaDegL1FrJ"
      },
      "source": [
        "Timepo de integración"
      ]
    },
    {
      "cell_type": "code",
      "metadata": {
        "id": "kXsa4Wc51I0Q"
      },
      "source": [
        "t = seq(0,10,len=100)"
      ],
      "execution_count": 8,
      "outputs": []
    },
    {
      "cell_type": "markdown",
      "metadata": {
        "id": "XefPMDRz1Mhd"
      },
      "source": [
        "Condiciones iniciales "
      ]
    },
    {
      "cell_type": "code",
      "metadata": {
        "id": "oPr-yU-u1Lut"
      },
      "source": [
        "s = c(h = 0)"
      ],
      "execution_count": 9,
      "outputs": []
    },
    {
      "cell_type": "markdown",
      "metadata": {
        "id": "AMKpFUlB1RVB"
      },
      "source": [
        "Establecer entradas "
      ]
    },
    {
      "cell_type": "code",
      "metadata": {
        "id": "o4pEJfi11PfD"
      },
      "source": [
        "u = rep(0,length(t))\r\n",
        "u[21:70] = 1"
      ],
      "execution_count": 10,
      "outputs": []
    },
    {
      "cell_type": "markdown",
      "metadata": {
        "id": "zlHu5Zs-1ZP5"
      },
      "source": [
        "Vector para guardar las alturas "
      ]
    },
    {
      "cell_type": "code",
      "metadata": {
        "id": "AKmMkwYB1Ykl"
      },
      "source": [
        "h = rep(0,length(t))"
      ],
      "execution_count": 15,
      "outputs": []
    },
    {
      "cell_type": "markdown",
      "metadata": {
        "id": "5qw9k3pY1e4F"
      },
      "source": [
        "Utilizar un  ciclo for para realizar simulación e ir cambiando el valor de la entrada"
      ]
    },
    {
      "cell_type": "code",
      "metadata": {
        "id": "iah1wNFg1eLU"
      },
      "source": [
        "for(i in 1:(length(t) - 1)) {\r\n",
        "\r\n",
        "  ts = c(t[i],t[i+1])\r\n",
        "  p[\"u\"] = u[i]\r\n",
        "  out = ode(y = s, times = ts, func = tank, parms = p, method = \"rk4\")\r\n",
        "  s = out[2,2]\r\n",
        "  h[i+1] = s\r\n",
        "}"
      ],
      "execution_count": 16,
      "outputs": []
    },
    {
      "cell_type": "markdown",
      "metadata": {
        "id": "_ji8197y2a7s"
      },
      "source": [
        "Guardar resultados "
      ]
    },
    {
      "cell_type": "code",
      "metadata": {
        "id": "qrb5MoZ12BrG"
      },
      "source": [
        "data = data.frame(t=t,h=h,u=u)\r\n",
        "write.csv(x = data, file = \"altura.csv\", row.names = FALSE)"
      ],
      "execution_count": 18,
      "outputs": []
    },
    {
      "cell_type": "markdown",
      "metadata": {
        "id": "eHicczUH2pP3"
      },
      "source": [
        "Mostar resultados "
      ]
    },
    {
      "cell_type": "code",
      "metadata": {
        "colab": {
          "base_uri": "https://localhost:8080/",
          "height": 437
        },
        "id": "86LkHNeT2nnc",
        "outputId": "f0125bcf-2228-4b49-f726-2a25eccc3f50"
      },
      "source": [
        "ggplot(data, aes(t)) +\r\n",
        "        geom_line(aes(y = h), color = \"blue\", lwd = 2) +\r\n",
        "        xlab(\"Time (s)\") +\r\n",
        "        ylab(\"High\") +\r\n",
        "        theme_bw()"
      ],
      "execution_count": 20,
      "outputs": [
        {
          "output_type": "display_data",
          "data": {
            "image/png": "[encoded data removed]",
            "text/plain": [
              "plot without title"
            ]
          },
          "metadata": {
            "tags": [],
            "image/png": {
              "width": 420,
              "height": 420
            }
          }
        }
      ]
    },
    {
      "cell_type": "code",
      "metadata": {
        "colab": {
          "base_uri": "https://localhost:8080/",
          "height": 437
        },
        "id": "w0PeVTuV298W",
        "outputId": "3f530ed1-cc2c-4c78-dc69-8d9a95e20ea8"
      },
      "source": [
        "ggplot(data,aes(t)) +\r\n",
        "        geom_line(aes(y = u), color = \"red\", lwd = 2, lty = 2) +\r\n",
        "        xlab(\"Time (s)\") +\r\n",
        "        ylab(\"Valve\") +\r\n",
        "        theme_bw()"
      ],
      "execution_count": 21,
      "outputs": [
        {
          "output_type": "display_data",
          "data": {
            "image/png": "[encoded data removed]",
            "text/plain": [
              "plot without title"
            ]
          },
          "metadata": {
            "tags": [],
            "image/png": {
              "width": 420,
              "height": 420
            }
          }
        }
      ]
    },
    {
      "cell_type": "code",
      "metadata": {
        "id": "oRU5K-3Z3PEh"
      },
      "source": [
        ""
      ],
      "execution_count": null,
      "outputs": []
    }
  ]
}