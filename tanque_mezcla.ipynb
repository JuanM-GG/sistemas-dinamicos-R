{
  "nbformat": 4,
  "nbformat_minor": 0,
  "metadata": {
    "colab": {
      "name": "Untitled27.ipynb",
      "provenance": [],
      "authorship_tag": "ABX9TyPFkLBlweCVWEJqKuntdzXV",
      "include_colab_link": true
    },
    "kernelspec": {
      "name": "python3",
      "display_name": "Python 3"
    }
  },
  "cells": [
    {
      "cell_type": "markdown",
      "metadata": {
        "id": "view-in-github",
        "colab_type": "text"
      },
      "source": [
        "<a href=\"https://colab.research.google.com/github/JuanM-GG/sistemas-dinamicos-R/blob/main/tanque_mezcla.ipynb\" target=\"_parent\"><img src=\"https://colab.research.google.com/assets/colab-badge.svg\" alt=\"Open In Colab\"/></a>"
      ]
    },
    {
      "cell_type": "markdown",
      "metadata": {
        "id": "qzYes7SNxko3"
      },
      "source": [
        "Título: Tanque de mezcla\r\n",
        "\r\n",
        "Nombre: Juan Manuel G.G\r\n",
        "\r\n",
        "Fecha: 21 de diciembre del 2020"
      ]
    },
    {
      "cell_type": "markdown",
      "metadata": {
        "id": "KK07cuNAxuSJ"
      },
      "source": [
        "## Balance de masa "
      ]
    },
    {
      "cell_type": "markdown",
      "metadata": {
        "id": "PUne7j_mxxBO"
      },
      "source": [
        "$$\\frac{dm}{dt} = \\dot{m}_{ent} - \\dot{m}_{sal}$$\r\n",
        "\r\n",
        "$$\\frac{d(\\rho V)}{dt} =  \\dot{w}_{1} +  \\dot{w}_{2} -  \\dot{w}$$\r\n",
        "\r\n",
        "$$\\frac{d V}{dt} = \\frac{\\dot{w}_{1} +  \\dot{w}_{2} -  \\dot{w}}{\\rho}$$"
      ]
    },
    {
      "cell_type": "markdown",
      "metadata": {
        "id": "SyigYNaiyc9m"
      },
      "source": [
        "## Balance de especies "
      ]
    },
    {
      "cell_type": "markdown",
      "metadata": {
        "id": "Vy5-i-d1yfIK"
      },
      "source": [
        "$$\\frac{dm_{x}}{dt} = \\dot{m}_{x,ent} - \\dot{m}_{x,sal}$$\r\n",
        "\r\n",
        "$$\\frac{d(V \\rho x)}{dt} = \\dot{w}_{1} x_{1} + \\dot{w}_{2} x_{2} - \\dot{w} x$$\r\n",
        "\r\n",
        "\r\n",
        "$$\\rho x\\frac{dV}{dt} + \\rho V\\frac{dx}{dt} = \\dot{w}_{1} x_{1} + \\dot{w}_{2} x_{2} - \\dot{w} x$$\r\n",
        "\r\n",
        "\r\n",
        "$$ \\rho V\\frac{dx}{dt} = \\dot{w}_{1} x_{1} + \\dot{w}_{2} x_{2} - \\dot{w} x - \\rho x (\\frac{\\dot{w}_{1} +  \\dot{w}_{2} -  \\dot{w}}{\\rho})$$\r\n",
        "\r\n",
        "$$ \\rho V\\frac{dx}{dt} = \\dot{w}_{1}( x_{1} - x)+ \\dot{w}_{2}( x_{2}  - x) $$\r\n",
        "\r\n",
        "\r\n",
        "$$ \\frac{dx}{dt} = \\frac{\\dot{w}_{1}( x_{1} - x)+ \\dot{w}_{2}( x_{2} - x)}{\\rho V} $$"
      ]
    },
    {
      "cell_type": "markdown",
      "metadata": {
        "id": "dCua6bIJ1kms"
      },
      "source": [
        "Importar librerías"
      ]
    },
    {
      "cell_type": "code",
      "metadata": {
        "id": "HFFJ-VzBxsLp"
      },
      "source": [
        "import numpy as np\r\n",
        "import matplotlib.pyplot as plt\r\n",
        "from scipy.integrate import odeint "
      ],
      "execution_count": 1,
      "outputs": []
    },
    {
      "cell_type": "markdown",
      "metadata": {
        "id": "xADdt4Co10xU"
      },
      "source": [
        "Establecer modelo"
      ]
    },
    {
      "cell_type": "code",
      "metadata": {
        "id": "b9etLllP0WHe"
      },
      "source": [
        "def tank(s, t):\r\n",
        "\r\n",
        "  # Vriables de estado\r\n",
        "  V, x  = s\r\n",
        "\r\n",
        "  # Balances\r\n",
        "  dVdt = (w1 + w2 - w)/rho\r\n",
        "  dxdt = (w1*(x1-x) + w2*(x2-x))/(V*rho)\r\n",
        "\r\n",
        "  return[dVdt, dxdt]"
      ],
      "execution_count": 13,
      "outputs": []
    },
    {
      "cell_type": "markdown",
      "metadata": {
        "id": "ILG0PcBp2Z4t"
      },
      "source": [
        "Valor de parámetros "
      ]
    },
    {
      "cell_type": "code",
      "metadata": {
        "id": "uc3qxoZD2WZG"
      },
      "source": [
        "rho = 900.0 # densidad, kg/m**3\r\n",
        "w1 = 500.0 # corriente 1, kg/min\r\n",
        "w2 = 200.0 # corriente 2, kg/min\r\n",
        "w = 650 # flujo de salida, kg/min\r\n",
        "x1 = 0.4 # composición de corriente 1, fracción másica\r\n",
        "x2 = 0.75 # composición de corriente 2, fracción másica"
      ],
      "execution_count": 3,
      "outputs": []
    },
    {
      "cell_type": "markdown",
      "metadata": {
        "id": "WdxCx3Et29aF"
      },
      "source": [
        "Condiciones iniciales "
      ]
    },
    {
      "cell_type": "code",
      "metadata": {
        "id": "IqtMakCk26U0"
      },
      "source": [
        "V = 2.0\r\n",
        "x = 0.0\r\n",
        "s = [V, x]"
      ],
      "execution_count": 4,
      "outputs": []
    },
    {
      "cell_type": "markdown",
      "metadata": {
        "id": "mUa28AiB3E6U"
      },
      "source": [
        "Timepo de simulación"
      ]
    },
    {
      "cell_type": "code",
      "metadata": {
        "id": "QPzFofXF3D2L"
      },
      "source": [
        "t = np.linspace(0,10.0)"
      ],
      "execution_count": 5,
      "outputs": []
    },
    {
      "cell_type": "markdown",
      "metadata": {
        "id": "pVRy-_kq3Ku0"
      },
      "source": [
        "Integrar EDOs"
      ]
    },
    {
      "cell_type": "code",
      "metadata": {
        "id": "9qcB2dwP3Juc"
      },
      "source": [
        "out = odeint(func=tank, y0=s, t=t)"
      ],
      "execution_count": 14,
      "outputs": []
    },
    {
      "cell_type": "code",
      "metadata": {
        "colab": {
          "base_uri": "https://localhost:8080/",
          "height": 283
        },
        "id": "1-YWFSn13Z6r",
        "outputId": "35547eb0-9350-4072-eecb-1da8103e94ea"
      },
      "source": [
        "plt.plot(t,out) \r\n",
        "plt.xlabel(\"Time [min]\")\r\n",
        "plt.ylabel(\"Volumne, Composition\")\r\n",
        "plt.legend([\"Volumne\",\"Composition\"])\r\n",
        "plt.ylim(0,3)\r\n",
        "plt.grid()"
      ],
      "execution_count": 15,
      "outputs": [
        {
          "output_type": "display_data",
          "data": {
            "image/png": "[encoded data removed]",
            "text/plain": [
              "<Figure size 432x288 with 1 Axes>"
            ]
          },
          "metadata": {
            "tags": [],
            "needs_background": "light"
          }
        }
      ]
    },
    {
      "cell_type": "markdown",
      "metadata": {
        "id": "NQRd9r7y6Fic"
      },
      "source": [
        "Análisis de estado estable"
      ]
    },
    {
      "cell_type": "markdown",
      "metadata": {
        "id": "yoYrs0BE6I8f"
      },
      "source": [
        "$$\\frac{dV}{dt} = 0 \\hspace{1cm} \\rightarrow \\hspace{1cm} w_{1} + w_{2} = w$$\r\n",
        "\r\n",
        "$$\\frac{dx}{dt} = 0 \\hspace{1cm} \\rightarrow \\hspace{1cm} \\bar{x} = \\frac{w_{2}x_{2} + w_{2}x_{2}}{w_{1} + w_{2}}$$"
      ]
    },
    {
      "cell_type": "code",
      "metadata": {
        "id": "9Qp93xVM3gDG"
      },
      "source": [
        "def steady_state(w1,w2,x1,x2):\r\n",
        "\r\n",
        "  xs = (w1*x1 + w2*x2)/(w1 + w2)\r\n",
        "\r\n",
        "  return xs  "
      ],
      "execution_count": 18,
      "outputs": []
    },
    {
      "cell_type": "code",
      "metadata": {
        "colab": {
          "base_uri": "https://localhost:8080/"
        },
        "id": "H6s4Nu-p64y0",
        "outputId": "43e9bf23-a162-4a2d-ffb1-b9464cf024db"
      },
      "source": [
        "steady_state(500,200,0.4,0.75)"
      ],
      "execution_count": 19,
      "outputs": [
        {
          "output_type": "execute_result",
          "data": {
            "text/plain": [
              "0.5"
            ]
          },
          "metadata": {
            "tags": []
          },
          "execution_count": 19
        }
      ]
    }
  ]
}